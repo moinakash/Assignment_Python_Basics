{
  "nbformat": 4,
  "nbformat_minor": 0,
  "metadata": {
    "colab": {
      "provenance": [],
      "authorship_tag": "ABX9TyNuSm2EJNQamYGnebiiVcPP",
      "include_colab_link": true
    },
    "kernelspec": {
      "name": "python3",
      "display_name": "Python 3"
    },
    "language_info": {
      "name": "python"
    }
  },
  "cells": [
    {
      "cell_type": "markdown",
      "metadata": {
        "id": "view-in-github",
        "colab_type": "text"
      },
      "source": [
        "<a href=\"https://colab.research.google.com/github/moinakash/Assignment_Python_Basics/blob/main/Assignment_Python_Basics.ipynb\" target=\"_parent\"><img src=\"https://colab.research.google.com/assets/colab-badge.svg\" alt=\"Open In Colab\"/></a>"
      ]
    },
    {
      "cell_type": "markdown",
      "source": [
        "<div align=\"center\">\n",
        "  <h1>Md Mainuddin Akash</font></h1>\n",
        "  <h2>ID: 20229055</font></h2>\n",
        "</div>\n"
      ],
      "metadata": {
        "id": "vGjUZhe5at-5"
      }
    },
    {
      "cell_type": "markdown",
      "source": [
        "**Problem 1:** Write a Python program to count the number of characters (character frequency) in a string.<br>\n",
        "Sample String : google.com<br>\n",
        "Expected Result : {'o': 3, 'g': 2, '.': 1, 'e': 1, 'l': 1, 'm': 1, 'c': 1}"
      ],
      "metadata": {
        "id": "V4UTw9GfcRQQ"
      }
    },
    {
      "cell_type": "code",
      "source": [
        "string = \"google.com\"\n",
        "char_freq = {}\n",
        "\n",
        "# Loop through each character in the string\n",
        "for char in string:\n",
        "    # Check if the character is already in the dictionary\n",
        "    if char in char_freq:\n",
        "        # Increment the count for this character\n",
        "        char_freq[char] += 1\n",
        "    else:\n",
        "        # Add the character to the dictionary with a count of 1\n",
        "        char_freq[char] = 1\n",
        "\n",
        "# Print the character frequency dictionary\n",
        "print(char_freq)\n"
      ],
      "metadata": {
        "colab": {
          "base_uri": "https://localhost:8080/"
        },
        "id": "JiYZGyK0bQuo",
        "outputId": "5ae06241-9a0d-488d-afc1-eae1e8301b8d"
      },
      "execution_count": null,
      "outputs": [
        {
          "output_type": "stream",
          "name": "stdout",
          "text": [
            "{'g': 2, 'o': 3, 'l': 1, 'e': 1, '.': 1, 'c': 1, 'm': 1}\n"
          ]
        }
      ]
    },
    {
      "cell_type": "markdown",
      "source": [
        "**Problem 2:** Write a Python program to check if a given key already exists in a dictionary."
      ],
      "metadata": {
        "id": "uLWYr3czd25Q"
      }
    },
    {
      "cell_type": "code",
      "source": [
        "my_dict = {\"apple\": 5, \"banana\": 3, \"orange\": 2}\n",
        "key = \"banana\"\n",
        "\n",
        "if key in my_dict:\n",
        "    print(f\"The key '{key}' already exists in the dictionary.\")\n",
        "else:\n",
        "    print(f\"The key '{key}' does not exist in the dictionary.\")\n"
      ],
      "metadata": {
        "colab": {
          "base_uri": "https://localhost:8080/"
        },
        "id": "om4KbK0XeMIo",
        "outputId": "f72c8a3e-efe2-4cb8-a365-92973c555859"
      },
      "execution_count": null,
      "outputs": [
        {
          "output_type": "stream",
          "name": "stdout",
          "text": [
            "The key 'banana' already exists in the dictionary.\n"
          ]
        }
      ]
    },
    {
      "cell_type": "markdown",
      "source": [
        "**Problem 3:** Write a Python program that accepts a sequence of comma-separated numbers from the user\n",
        "and generates a list and a tuple of those numbers.<br> \n",
        "Sample data : 1, 5, 7, 23<br> \n",
        "Expected Output : <br> \n",
        "List : ['1', ' 5', ' 7', ' 23'] <br> \n",
        "Tuple : ('1', ' 5', ' 7', ' 23’)"
      ],
      "metadata": {
        "id": "G_2JgJU2eloK"
      }
    },
    {
      "cell_type": "code",
      "source": [
        "user_input = input(\"Enter comma-separated numbers: \")\n",
        "\n",
        "# split values based on commas\n",
        "values = user_input.split(\",\")\n",
        "\n",
        "# create list and tuple\n",
        "list_values = list(values)\n",
        "tuple_values = tuple(values)\n",
        "\n",
        "# print the list and tuple\n",
        "print(\"List:\", list_values)\n",
        "print(\"Tuple:\", tuple_values)"
      ],
      "metadata": {
        "id": "bNYgY9Lve2EA",
        "colab": {
          "base_uri": "https://localhost:8080/"
        },
        "outputId": "fd3f4a23-bf35-4fe6-cc5e-6e5b27a4468f"
      },
      "execution_count": null,
      "outputs": [
        {
          "output_type": "stream",
          "name": "stdout",
          "text": [
            "Enter comma-separated numbers: 1,5,7,23\n",
            "List: ['1', '5', '7', '23']\n",
            "Tuple: ('1', '5', '7', '23')\n"
          ]
        }
      ]
    },
    {
      "cell_type": "markdown",
      "source": [
        "**Problem 4:** Write a Python program to calculate the number of days between two dates. <br>\n",
        "Sample dates : (2014, 7, 2), (2014, 7, 11) <br>\n",
        "Expected output : 9 days"
      ],
      "metadata": {
        "id": "07YS-UhYfJQo"
      }
    },
    {
      "cell_type": "code",
      "source": [
        "from datetime import date\n",
        "\n",
        "# define the two dates\n",
        "date1 = date(2014, 7, 2)\n",
        "date2 = date(2014, 7, 11)\n",
        "\n",
        "# calculate the number of days between the dates\n",
        "delta = date2 - date1\n",
        "\n",
        "# print the number of days\n",
        "print(delta.days, \"days\")"
      ],
      "metadata": {
        "colab": {
          "base_uri": "https://localhost:8080/"
        },
        "id": "7JPUlBcfjTNF",
        "outputId": "f5512f98-33a7-4024-8d01-cae96d1b668d"
      },
      "execution_count": null,
      "outputs": [
        {
          "output_type": "stream",
          "name": "stdout",
          "text": [
            "9 days\n"
          ]
        }
      ]
    },
    {
      "cell_type": "markdown",
      "source": [
        "**Problem 5:** Write a Python program to solve (x + y) * (x + y). <br>\n",
        "Test Data : x = 4, y = 3 <br>\n",
        "Expected Output : ((4+3)^2) = 49."
      ],
      "metadata": {
        "id": "B3le5gp_oLv0"
      }
    },
    {
      "cell_type": "code",
      "source": [
        "# Define the values of x and y\n",
        "x = 4\n",
        "y = 3\n",
        "\n",
        "# Evaluate the expression (x + y) * (x + y)\n",
        "result = (x + y) * (x + y)\n",
        "\n",
        "# Print the result\n",
        "print(f\"({x} + {y}) ^ 2 = {result}\")"
      ],
      "metadata": {
        "colab": {
          "base_uri": "https://localhost:8080/"
        },
        "id": "OOXd2txooUCE",
        "outputId": "8ec617d8-aef4-44e2-f455-75038328548a"
      },
      "execution_count": null,
      "outputs": [
        {
          "output_type": "stream",
          "name": "stdout",
          "text": [
            "(4 + 3) ^ 2 = 49\n"
          ]
        }
      ]
    },
    {
      "cell_type": "markdown",
      "source": [
        "**Problem 6:** Write a Python program to compute the future value of a specified principal amount, rate of\n",
        "interest, and number of years. <br>\n",
        "Test Data : amt = 10000, int = 3.5, years = 7 <br>\n",
        "Expected Output : 12722.79"
      ],
      "metadata": {
        "id": "fLXn2nHXo65r"
      }
    },
    {
      "cell_type": "code",
      "source": [
        "# Define the principal amount, rate of interest, and number of years\n",
        "amt = 10000\n",
        "int_rate = 3.5\n",
        "years = 7\n",
        "\n",
        "# Calculate the future value using the formula: FV = PV * (1 + r/100)^n\n",
        "fv = amt * (1 + int_rate/100)**years\n",
        "\n",
        "# Print the future value\n",
        "print(f\"Future value: {round(fv, 2)}\")"
      ],
      "metadata": {
        "colab": {
          "base_uri": "https://localhost:8080/"
        },
        "id": "hC1CuJalpK4s",
        "outputId": "6c730ea2-f87a-44ea-9e1e-3478b87dda73"
      },
      "execution_count": null,
      "outputs": [
        {
          "output_type": "stream",
          "name": "stdout",
          "text": [
            "Future value: 12722.79\n"
          ]
        }
      ]
    },
    {
      "cell_type": "markdown",
      "source": [
        "**Problem 7**: Write a Python program that removes duplicate elements from a given array of numbers so\n",
        "that each element appears only once and returns the new length of the array. <br>\n",
        "Sample Input: [0,0,1,1,2,2,3,3,4,4,4] <br>\n",
        "Sample Output: <br>\n",
        "The list of unique numbers: [0,1,2,3,4] <br>\n",
        "length of the unique list : 5"
      ],
      "metadata": {
        "id": "n3UYiKH4pmZk"
      }
    },
    {
      "cell_type": "code",
      "source": [
        "# define the input array\n",
        "arr = [0, 0, 1, 1, 2, 2, 3, 3, 4, 4, 4]\n",
        "\n",
        "# convert the array to a set to remove duplicates\n",
        "unique_set = set(arr)\n",
        "\n",
        "# convert the set back to a list\n",
        "unique_list = list(unique_set)\n",
        "\n",
        "# print the unique list\n",
        "print(\"The list of unique numbers:\", unique_list)\n",
        "\n",
        "# print the length of the unique list\n",
        "print(\"Length of the unique list:\", len(unique_list))\n"
      ],
      "metadata": {
        "colab": {
          "base_uri": "https://localhost:8080/"
        },
        "id": "1DtpgiXip21k",
        "outputId": "3777246a-4394-4555-db4c-32aebb1f1c4c"
      },
      "execution_count": null,
      "outputs": [
        {
          "output_type": "stream",
          "name": "stdout",
          "text": [
            "The list of unique numbers: [0, 1, 2, 3, 4]\n",
            "Length of the unique list: 5\n"
          ]
        }
      ]
    },
    {
      "cell_type": "markdown",
      "source": [
        "**Problem 8**: Write a Python program to sort (ascending and descending) a dictionary by key value."
      ],
      "metadata": {
        "id": "pxajE7qNqBK0"
      }
    },
    {
      "cell_type": "code",
      "source": [
        "# define the input dictionary\n",
        "d = {4: 'four', 1: 'one', 3: 'three', 2: 'two'}\n",
        "\n",
        "# sort the dictionary in ascending order by key value\n",
        "sorted_dict_asc = dict(sorted(d.items()))\n",
        "\n",
        "# sort the dictionary in descending order by key value\n",
        "sorted_dict_desc = dict(sorted(d.items(), reverse=True))\n",
        "\n",
        "# print the sorted dictionaries\n",
        "print(\"Ascending order:\", sorted_dict_asc)\n",
        "print(\"Descending order:\", sorted_dict_desc)\n"
      ],
      "metadata": {
        "colab": {
          "base_uri": "https://localhost:8080/"
        },
        "id": "Fg0R09ktqGf9",
        "outputId": "af464352-27aa-4941-f0ca-cec3669676b3"
      },
      "execution_count": null,
      "outputs": [
        {
          "output_type": "stream",
          "name": "stdout",
          "text": [
            "Ascending order: {1: 'one', 2: 'two', 3: 'three', 4: 'four'}\n",
            "Descending order: {4: 'four', 3: 'three', 2: 'two', 1: 'one'}\n"
          ]
        }
      ]
    },
    {
      "cell_type": "markdown",
      "source": [
        "**Problem 9:** Write a Python program to add key to a dictionary. Go to the editor <br> \n",
        "Sample Dictionary : {0: 10,1: 20} <br> \n",
        "Expected Result : {0: 10, 1: 20, 2: 30}"
      ],
      "metadata": {
        "id": "BcTVw52gqZH0"
      }
    },
    {
      "cell_type": "code",
      "source": [
        "# Define the input dictionary\n",
        "my_dict = {0: 10, 1: 20}\n",
        "\n",
        "# Add a new key-value pair to the dictionary\n",
        "my_dict[2] = 30\n",
        "\n",
        "# Print the updated dictionary\n",
        "print(\"Updated dictionary:\", my_dict)"
      ],
      "metadata": {
        "colab": {
          "base_uri": "https://localhost:8080/"
        },
        "id": "xsGJRiGRqdVd",
        "outputId": "5af2880c-4031-4a91-fa40-cc5e180cb7ae"
      },
      "execution_count": null,
      "outputs": [
        {
          "output_type": "stream",
          "name": "stdout",
          "text": [
            "Updated dictionary: {0: 10, 1: 20, 2: 30}\n"
          ]
        }
      ]
    },
    {
      "cell_type": "markdown",
      "source": [
        "**Problem 10:** Write a Pandas program to create and display a DataFrame from a specified dictionary data which has the **index labels**. <br>\n",
        "Sample Python dictionary data and list labels: <br>\n",
        "exam_data = {'name': ['Arif', 'Asir', 'Arik', 'Anis', 'Anil', 'Ashish', <br>'Anahi', 'Alia', 'Alvin', 'Asim'], <br>\n",
        "'score': [12.5, 9, 16.5, np.nan, 9, 20, 14.5, np.nan, 8, 19],<br>\n",
        "'attempts': [1, 3, 2, 3, 2, 3, 1, 1, 2, 1],<br>\n",
        "'qualify': ['yes', 'no', 'yes', 'no', 'no', 'yes', 'yes', 'no', 'no', 'yes']} <br>labels = ['a', 'b', 'c', 'd', 'e', 'f', 'g', 'h', 'i',’j’]"
      ],
      "metadata": {
        "id": "VxqB_rv2q_HT"
      }
    },
    {
      "cell_type": "code",
      "source": [
        "import pandas as pd\n",
        "import numpy as np\n",
        "\n",
        "# Define the dictionary data\n",
        "exam_data = {'name': ['Arif', 'Asir', 'Arik', 'Anis', 'Anil', 'Ashish', 'Anahi', 'Alia', 'Alvin', 'Asim'],\n",
        "             'score': [12.5, 9, 16.5, np.nan, 9, 20, 14.5, np.nan, 8, 19],\n",
        "             'attempts': [1, 3, 2, 3, 2, 3, 1, 1, 2, 1],\n",
        "             'qualify': ['yes', 'no', 'yes', 'no', 'no', 'yes', 'yes', 'no', 'no', 'yes']}\n",
        "\n",
        "# Define the index labels\n",
        "labels = ['a', 'b', 'c', 'd', 'e', 'f', 'g', 'h', 'i', 'j']\n",
        "\n",
        "# Create the DataFrame\n",
        "df = pd.DataFrame(exam_data, index=labels)\n",
        "\n",
        "# Display the DataFrame\n",
        "print(df)"
      ],
      "metadata": {
        "colab": {
          "base_uri": "https://localhost:8080/"
        },
        "id": "QGgfAqAbrD40",
        "outputId": "a05f01cf-f999-4837-c2f2-717d391e7f19"
      },
      "execution_count": null,
      "outputs": [
        {
          "output_type": "stream",
          "name": "stdout",
          "text": [
            "     name  score  attempts qualify\n",
            "a    Arif   12.5         1     yes\n",
            "b    Asir    9.0         3      no\n",
            "c    Arik   16.5         2     yes\n",
            "d    Anis    NaN         3      no\n",
            "e    Anil    9.0         2      no\n",
            "f  Ashish   20.0         3     yes\n",
            "g   Anahi   14.5         1     yes\n",
            "h    Alia    NaN         1      no\n",
            "i   Alvin    8.0         2      no\n",
            "j    Asim   19.0         1     yes\n"
          ]
        }
      ]
    }
  ]
}